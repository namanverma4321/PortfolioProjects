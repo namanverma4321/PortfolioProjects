{
 "cells": [
  {
   "cell_type": "markdown",
   "metadata": {
    "id": "W4cK8eIFUUbZ"
   },
   "source": [
    "### Importing data"
   ]
  },
  {
   "cell_type": "code",
   "execution_count": 14,
   "metadata": {
    "executionInfo": {
     "elapsed": 1477,
     "status": "ok",
     "timestamp": 1673193328794,
     "user": {
      "displayName": "Naman Verma",
      "userId": "11235119078354129919"
     },
     "user_tz": -330
    },
    "id": "mEkybjycJBXY"
   },
   "outputs": [],
   "source": [
    "import pandas as pd\n",
    "import numpy as np\n",
    "\n",
    "from sklearn.model_selection import train_test_split\n",
    "from sklearn.preprocessing import StandardScaler\n",
    "from sklearn.metrics import classification_report, confusion_matrix, accuracy_score, recall_score\n",
    "from sklearn.linear_model import LogisticRegression"
   ]
  },
  {
   "cell_type": "code",
   "execution_count": 15,
   "metadata": {
    "executionInfo": {
     "elapsed": 1442,
     "status": "ok",
     "timestamp": 1673193330233,
     "user": {
      "displayName": "Naman Verma",
      "userId": "11235119078354129919"
     },
     "user_tz": -330
    },
    "id": "JsdviH_EXjAm"
   },
   "outputs": [],
   "source": [
    "dataset=pd.read_excel(\"Dataset_tochange.xlsx\")\n"
   ]
  },
  {
   "cell_type": "code",
   "execution_count": 16,
   "metadata": {
    "colab": {
     "base_uri": "https://localhost:8080/",
     "height": 206
    },
    "executionInfo": {
     "elapsed": 24,
     "status": "ok",
     "timestamp": 1673193330234,
     "user": {
      "displayName": "Naman Verma",
      "userId": "11235119078354129919"
     },
     "user_tz": -330
    },
    "id": "t3lhQYpuZO8X",
    "outputId": "0f37278e-51f4-477c-ee4b-16c9a5e5f3aa"
   },
   "outputs": [
    {
     "data": {
      "text/html": [
       "<div>\n",
       "<style scoped>\n",
       "    .dataframe tbody tr th:only-of-type {\n",
       "        vertical-align: middle;\n",
       "    }\n",
       "\n",
       "    .dataframe tbody tr th {\n",
       "        vertical-align: top;\n",
       "    }\n",
       "\n",
       "    .dataframe thead th {\n",
       "        text-align: right;\n",
       "    }\n",
       "</style>\n",
       "<table border=\"1\" class=\"dataframe\">\n",
       "  <thead>\n",
       "    <tr style=\"text-align: right;\">\n",
       "      <th></th>\n",
       "      <th>ID</th>\n",
       "      <th>DemAffl</th>\n",
       "      <th>DemAge</th>\n",
       "      <th>DemClusterGroup</th>\n",
       "      <th>DemGender</th>\n",
       "      <th>DemReg</th>\n",
       "      <th>DemTVReg</th>\n",
       "      <th>LoyalClass</th>\n",
       "      <th>LoyalSpend</th>\n",
       "      <th>LoyalTime</th>\n",
       "    </tr>\n",
       "  </thead>\n",
       "  <tbody>\n",
       "    <tr>\n",
       "      <th>0</th>\n",
       "      <td>140</td>\n",
       "      <td>10.0</td>\n",
       "      <td>76.0</td>\n",
       "      <td>C</td>\n",
       "      <td>U</td>\n",
       "      <td>Midlands</td>\n",
       "      <td>Wales &amp; West</td>\n",
       "      <td>Gold</td>\n",
       "      <td>16000.00</td>\n",
       "      <td>4.0</td>\n",
       "    </tr>\n",
       "    <tr>\n",
       "      <th>1</th>\n",
       "      <td>620</td>\n",
       "      <td>4.0</td>\n",
       "      <td>49.0</td>\n",
       "      <td>D</td>\n",
       "      <td>U</td>\n",
       "      <td>Midlands</td>\n",
       "      <td>Wales &amp; West</td>\n",
       "      <td>Gold</td>\n",
       "      <td>6000.00</td>\n",
       "      <td>5.0</td>\n",
       "    </tr>\n",
       "    <tr>\n",
       "      <th>2</th>\n",
       "      <td>868</td>\n",
       "      <td>5.0</td>\n",
       "      <td>70.0</td>\n",
       "      <td>D</td>\n",
       "      <td>F</td>\n",
       "      <td>Midlands</td>\n",
       "      <td>Wales &amp; West</td>\n",
       "      <td>Silver</td>\n",
       "      <td>0.02</td>\n",
       "      <td>8.0</td>\n",
       "    </tr>\n",
       "    <tr>\n",
       "      <th>3</th>\n",
       "      <td>1120</td>\n",
       "      <td>10.0</td>\n",
       "      <td>65.0</td>\n",
       "      <td>F</td>\n",
       "      <td>M</td>\n",
       "      <td>Midlands</td>\n",
       "      <td>Midlands</td>\n",
       "      <td>Tin</td>\n",
       "      <td>0.01</td>\n",
       "      <td>7.0</td>\n",
       "    </tr>\n",
       "    <tr>\n",
       "      <th>4</th>\n",
       "      <td>2313</td>\n",
       "      <td>11.0</td>\n",
       "      <td>68.0</td>\n",
       "      <td>A</td>\n",
       "      <td>F</td>\n",
       "      <td>Midlands</td>\n",
       "      <td>Midlands</td>\n",
       "      <td>Tin</td>\n",
       "      <td>0.01</td>\n",
       "      <td>8.0</td>\n",
       "    </tr>\n",
       "  </tbody>\n",
       "</table>\n",
       "</div>"
      ],
      "text/plain": [
       "     ID  DemAffl  DemAge DemClusterGroup DemGender    DemReg      DemTVReg  \\\n",
       "0   140     10.0    76.0               C         U  Midlands  Wales & West   \n",
       "1   620      4.0    49.0               D         U  Midlands  Wales & West   \n",
       "2   868      5.0    70.0               D         F  Midlands  Wales & West   \n",
       "3  1120     10.0    65.0               F         M  Midlands      Midlands   \n",
       "4  2313     11.0    68.0               A         F  Midlands      Midlands   \n",
       "\n",
       "  LoyalClass  LoyalSpend  LoyalTime  \n",
       "0       Gold    16000.00        4.0  \n",
       "1       Gold     6000.00        5.0  \n",
       "2     Silver        0.02        8.0  \n",
       "3        Tin        0.01        7.0  \n",
       "4        Tin        0.01        8.0  "
      ]
     },
     "execution_count": 16,
     "metadata": {},
     "output_type": "execute_result"
    }
   ],
   "source": [
    "#shows first few rows of the code\n",
    "dataset.head()"
   ]
  },
  {
   "cell_type": "markdown",
   "metadata": {
    "id": "Y0-pdNzIUF2o"
   },
   "source": [
    "### Data preparation"
   ]
  },
  {
   "cell_type": "code",
   "execution_count": 17,
   "metadata": {
    "colab": {
     "base_uri": "https://localhost:8080/"
    },
    "executionInfo": {
     "elapsed": 22,
     "status": "ok",
     "timestamp": 1673193330234,
     "user": {
      "displayName": "Naman Verma",
      "userId": "11235119078354129919"
     },
     "user_tz": -330
    },
    "id": "mUTczjGsZTig",
    "outputId": "059ece62-6cc3-45ce-cf57-7409e3bff10f"
   },
   "outputs": [
    {
     "data": {
      "text/plain": [
       "ID                   0\n",
       "DemAffl             48\n",
       "DemAge              67\n",
       "DemClusterGroup     28\n",
       "DemGender          114\n",
       "DemReg              18\n",
       "DemTVReg            18\n",
       "LoyalClass           0\n",
       "LoyalSpend           0\n",
       "LoyalTime           15\n",
       "dtype: int64"
      ]
     },
     "execution_count": 17,
     "metadata": {},
     "output_type": "execute_result"
    }
   ],
   "source": [
    "# explore missing values\n",
    "dataset.isna().sum()"
   ]
  },
  {
   "cell_type": "code",
   "execution_count": 18,
   "metadata": {
    "executionInfo": {
     "elapsed": 20,
     "status": "ok",
     "timestamp": 1673193330235,
     "user": {
      "displayName": "Naman Verma",
      "userId": "11235119078354129919"
     },
     "user_tz": -330
    },
    "id": "_OOyTXPWZTmI"
   },
   "outputs": [],
   "source": [
    "# filling missing values with mean/mode*\n",
    "dataset['DemAffl']=dataset['DemAffl'].fillna(dataset['DemAffl'].mode()[0])\n",
    "dataset['DemAge']=dataset['DemAge'].fillna(dataset['DemAge'].mode()[0])\n",
    "dataset['DemClusterGroup']=dataset['DemClusterGroup'].fillna(dataset['DemClusterGroup'].mode()[0])\n",
    "dataset['DemGender']=dataset['DemGender'].fillna(dataset['DemGender'].mode()[0])\n",
    "dataset['DemReg']=dataset['DemReg'].fillna(dataset['DemReg'].mode()[0])\n",
    "dataset['DemTVReg']=dataset['DemTVReg'].fillna(dataset['DemTVReg'].mode()[0])\n",
    "dataset['LoyalTime']=dataset['LoyalTime'].fillna(dataset['LoyalTime'].mean())"
   ]
  },
  {
   "cell_type": "code",
   "execution_count": 19,
   "metadata": {
    "colab": {
     "base_uri": "https://localhost:8080/"
    },
    "executionInfo": {
     "elapsed": 20,
     "status": "ok",
     "timestamp": 1673193330236,
     "user": {
      "displayName": "Naman Verma",
      "userId": "11235119078354129919"
     },
     "user_tz": -330
    },
    "id": "IWLdRHv7ZbZW",
    "outputId": "dcec770c-7a12-4a0a-c622-c77de8cc7270"
   },
   "outputs": [
    {
     "data": {
      "text/plain": [
       "ID                 0\n",
       "DemAffl            0\n",
       "DemAge             0\n",
       "DemClusterGroup    0\n",
       "DemGender          0\n",
       "DemReg             0\n",
       "DemTVReg           0\n",
       "LoyalClass         0\n",
       "LoyalSpend         0\n",
       "LoyalTime          0\n",
       "dtype: int64"
      ]
     },
     "execution_count": 19,
     "metadata": {},
     "output_type": "execute_result"
    }
   ],
   "source": [
    "# explore missing values post missing value fix\n",
    "dataset.isna().sum()"
   ]
  },
  {
   "cell_type": "markdown",
   "metadata": {
    "id": "H4yAq0Ze54D2"
   },
   "source": [
    "### Coverting category to numeric"
   ]
  },
  {
   "cell_type": "code",
   "execution_count": 20,
   "metadata": {
    "colab": {
     "base_uri": "https://localhost:8080/"
    },
    "executionInfo": {
     "elapsed": 17,
     "status": "ok",
     "timestamp": 1673193330236,
     "user": {
      "displayName": "Naman Verma",
      "userId": "11235119078354129919"
     },
     "user_tz": -330
    },
    "id": "5AjdIX3purTG",
    "outputId": "9043c07c-8d8c-4c39-e7e9-2316d53603d2"
   },
   "outputs": [
    {
     "name": "stdout",
     "output_type": "stream",
     "text": [
      "{'A': 0, 'B': 1, 'C': 2, 'D': 3, 'E': 4, 'F': 5, 'U': 6}\n",
      "{'F': 0, 'M': 1, 'U': 2}\n",
      "{'Midlands': 0, 'North': 1, 'Scottish': 2, 'South East': 3, 'South West': 4}\n",
      "{'Border': 0, 'C Scotland': 1, 'East': 2, 'London': 3, 'Midlands': 4, 'N East': 5, 'N Scot': 6, 'N West': 7, 'S & S East': 8, 'S West': 9, 'Ulster': 10, 'Wales & West': 11, 'Yorkshire': 12}\n",
      "{'Gold': 0, 'Platinum': 1, 'Silver': 2, 'Tin': 3}\n"
     ]
    }
   ],
   "source": [
    "# converting to mumeric\n",
    "from sklearn.preprocessing import LabelEncoder\n",
    "number = LabelEncoder()\n",
    "\n",
    "dataset['DemClusterGroup'] = number.fit_transform(dataset['DemClusterGroup'].astype('str'))\n",
    "integer_mapping = {l: i for i, l in enumerate(number.classes_)}\n",
    "print(integer_mapping)\n",
    "\n",
    "dataset['DemGender'] = number.fit_transform(dataset['DemGender'].astype('str'))\n",
    "integer_mapping = {l: i for i, l in enumerate(number.classes_)}\n",
    "print(integer_mapping)\n",
    "\n",
    "dataset['DemReg'] = number.fit_transform(dataset['DemReg'].astype('str'))\n",
    "integer_mapping = {l: i for i, l in enumerate(number.classes_)}\n",
    "print(integer_mapping)\n",
    "\n",
    "dataset['DemTVReg'] = number.fit_transform(dataset['DemTVReg'].astype('str'))\n",
    "integer_mapping = {l: i for i, l in enumerate(number.classes_)}\n",
    "print(integer_mapping)\n",
    "\n",
    "dataset['LoyalClass'] = number.fit_transform(dataset['LoyalClass'].astype('str'))\n",
    "integer_mapping = {l: i for i, l in enumerate(number.classes_)}\n",
    "print(integer_mapping)"
   ]
  },
  {
   "cell_type": "code",
   "execution_count": 8,
   "metadata": {
    "colab": {
     "base_uri": "https://localhost:8080/",
     "height": 206
    },
    "executionInfo": {
     "elapsed": 15,
     "status": "ok",
     "timestamp": 1673193330237,
     "user": {
      "displayName": "Naman Verma",
      "userId": "11235119078354129919"
     },
     "user_tz": -330
    },
    "id": "hZk_8a5sR9pr",
    "outputId": "1bd26ccb-0adc-49f2-aea7-d925b89f5095"
   },
   "outputs": [
    {
     "data": {
      "text/html": [
       "<div>\n",
       "<style scoped>\n",
       "    .dataframe tbody tr th:only-of-type {\n",
       "        vertical-align: middle;\n",
       "    }\n",
       "\n",
       "    .dataframe tbody tr th {\n",
       "        vertical-align: top;\n",
       "    }\n",
       "\n",
       "    .dataframe thead th {\n",
       "        text-align: right;\n",
       "    }\n",
       "</style>\n",
       "<table border=\"1\" class=\"dataframe\">\n",
       "  <thead>\n",
       "    <tr style=\"text-align: right;\">\n",
       "      <th></th>\n",
       "      <th>ID</th>\n",
       "      <th>DemAffl</th>\n",
       "      <th>DemAge</th>\n",
       "      <th>DemClusterGroup</th>\n",
       "      <th>DemGender</th>\n",
       "      <th>DemReg</th>\n",
       "      <th>DemTVReg</th>\n",
       "      <th>LoyalClass</th>\n",
       "      <th>LoyalSpend</th>\n",
       "      <th>LoyalTime</th>\n",
       "    </tr>\n",
       "  </thead>\n",
       "  <tbody>\n",
       "    <tr>\n",
       "      <th>0</th>\n",
       "      <td>140</td>\n",
       "      <td>10.0</td>\n",
       "      <td>76.0</td>\n",
       "      <td>2</td>\n",
       "      <td>2</td>\n",
       "      <td>0</td>\n",
       "      <td>11</td>\n",
       "      <td>0</td>\n",
       "      <td>16000.00</td>\n",
       "      <td>4.0</td>\n",
       "    </tr>\n",
       "    <tr>\n",
       "      <th>1</th>\n",
       "      <td>620</td>\n",
       "      <td>4.0</td>\n",
       "      <td>49.0</td>\n",
       "      <td>3</td>\n",
       "      <td>2</td>\n",
       "      <td>0</td>\n",
       "      <td>11</td>\n",
       "      <td>0</td>\n",
       "      <td>6000.00</td>\n",
       "      <td>5.0</td>\n",
       "    </tr>\n",
       "    <tr>\n",
       "      <th>2</th>\n",
       "      <td>868</td>\n",
       "      <td>5.0</td>\n",
       "      <td>70.0</td>\n",
       "      <td>3</td>\n",
       "      <td>0</td>\n",
       "      <td>0</td>\n",
       "      <td>11</td>\n",
       "      <td>2</td>\n",
       "      <td>0.02</td>\n",
       "      <td>8.0</td>\n",
       "    </tr>\n",
       "    <tr>\n",
       "      <th>3</th>\n",
       "      <td>1120</td>\n",
       "      <td>10.0</td>\n",
       "      <td>65.0</td>\n",
       "      <td>5</td>\n",
       "      <td>1</td>\n",
       "      <td>0</td>\n",
       "      <td>4</td>\n",
       "      <td>3</td>\n",
       "      <td>0.01</td>\n",
       "      <td>7.0</td>\n",
       "    </tr>\n",
       "    <tr>\n",
       "      <th>4</th>\n",
       "      <td>2313</td>\n",
       "      <td>11.0</td>\n",
       "      <td>68.0</td>\n",
       "      <td>0</td>\n",
       "      <td>0</td>\n",
       "      <td>0</td>\n",
       "      <td>4</td>\n",
       "      <td>3</td>\n",
       "      <td>0.01</td>\n",
       "      <td>8.0</td>\n",
       "    </tr>\n",
       "  </tbody>\n",
       "</table>\n",
       "</div>"
      ],
      "text/plain": [
       "     ID  DemAffl  DemAge  DemClusterGroup  DemGender  DemReg  DemTVReg  \\\n",
       "0   140     10.0    76.0                2          2       0        11   \n",
       "1   620      4.0    49.0                3          2       0        11   \n",
       "2   868      5.0    70.0                3          0       0        11   \n",
       "3  1120     10.0    65.0                5          1       0         4   \n",
       "4  2313     11.0    68.0                0          0       0         4   \n",
       "\n",
       "   LoyalClass  LoyalSpend  LoyalTime  \n",
       "0           0    16000.00        4.0  \n",
       "1           0     6000.00        5.0  \n",
       "2           2        0.02        8.0  \n",
       "3           3        0.01        7.0  \n",
       "4           3        0.01        8.0  "
      ]
     },
     "execution_count": 8,
     "metadata": {},
     "output_type": "execute_result"
    }
   ],
   "source": [
    "dataset.head()"
   ]
  },
  {
   "cell_type": "markdown",
   "metadata": {
    "id": "QHOSDHEATpyW"
   },
   "source": [
    "### Predictions"
   ]
  },
  {
   "cell_type": "code",
   "execution_count": 9,
   "metadata": {
    "executionInfo": {
     "elapsed": 14,
     "status": "ok",
     "timestamp": 1673193330238,
     "user": {
      "displayName": "Naman Verma",
      "userId": "11235119078354129919"
     },
     "user_tz": -330
    },
    "id": "NpVPWlOYZbha"
   },
   "outputs": [],
   "source": [
    "X_fresh = dataset.iloc[:, 1:10].values"
   ]
  },
  {
   "cell_type": "code",
   "execution_count": 10,
   "metadata": {
    "executionInfo": {
     "elapsed": 742,
     "status": "ok",
     "timestamp": 1673193330966,
     "user": {
      "displayName": "Naman Verma",
      "userId": "11235119078354129919"
     },
     "user_tz": -330
    },
    "id": "JlbdxylHZhCp"
   },
   "outputs": [],
   "source": [
    "import joblib\n",
    "classifier = joblib.load('Classifier_LoyalCustomers')"
   ]
  },
  {
   "cell_type": "code",
   "execution_count": 11,
   "metadata": {
    "colab": {
     "base_uri": "https://localhost:8080/"
    },
    "executionInfo": {
     "elapsed": 7,
     "status": "ok",
     "timestamp": 1673193330966,
     "user": {
      "displayName": "Naman Verma",
      "userId": "11235119078354129919"
     },
     "user_tz": -330
    },
    "id": "w-EcXl1aZhHO",
    "outputId": "277e5944-d184-48d3-8dbd-7268648cd6e5"
   },
   "outputs": [
    {
     "name": "stdout",
     "output_type": "stream",
     "text": [
      "[0 0 0 0 0 0 0 0 0 1 0 0 1 0 1 0 0 1 0 0 0 0 0 0 0 1 0 0 0 0 0 1 0 0 0 0 1\n",
      " 0 1 0 0 1 0 0 1 1 0 0 0 0 0 1 0 0 0 0 1 1 1 0 0 1 0 1 1 0 0 1 0 1 0 0 0 0\n",
      " 0 1 0 0 1 0 0 0 0 1 1 1 0 0 0 0 0 1 1 1 0 1 0 0 0 0 0 0 0 0 1 0 0 0 0 0 1\n",
      " 0 0 0 0 1 0 0 0 1 0 0 0 0 1 0 0 0 1 1 0 0 1 0 1 1 0 0 0 0 1 1 0 1 0 0 1 1\n",
      " 0 0 0 0 0 0 0 0 0 0 0 1 0 1 0 0 1 0 0 0 0 0 1 1 0 0 0 1 0 0 1 0 0 1 0 0 1\n",
      " 1 0 0 0 0 1 0 1 0 1 1 0 0 0 1 1 1 1 0 0 0 0 0 1 0 1 0 0 0 1 1 0 0 1 0 0 0\n",
      " 1 1 0 0 0 1 1 1 0 0 0 1 0 1 0 0 0 0 1 1 0 0 0 1 0 0 0 0 0 0 0 0 1 0 0 0 0\n",
      " 0 0 1 0 1 0 1 1 1 0 1 1 0 1 0 1 1 0 0 0 1 1 1 0 0 0 0 1 0 1 0 0 0 1 0 0 0\n",
      " 1 1 0 1 0 1 0 1 1 0 0 0 1 0 1 1 1 1 0 0 1 0 0 0 0 1 0 0 0 1 0 1 0 1 0 0 1\n",
      " 0 0 1 0 0 0 0 0 0 0 1 0 0 0 1 1 0 0 0 0 1 1 1 0 1 1 0 1 1 0 0 0 1 0 0 0 1\n",
      " 1 0 1 0 0 0 0 1 1 0 1 0 1 0 0 1 0 0 0 1 0 0 1 1 1 0 1 0 0 0 0 0 0 1 0 0 1\n",
      " 1 1 0 0 1 0 1 0 1 0 1 0 1 0 0 0 1 1 1 0 0 0 0 0 0 0 1 0 0 1 0 0 0 0 1 0 1\n",
      " 0 0 0 0 0 1 0 1 0 0 0 1 0 0 0 0 1 1 0 0 0 0 0 0 0 0 0 0 0 1 1 1 1 0 1 0 0\n",
      " 1 0 0 0 1 0 1 0 0 0 0 1 0 0 0 0 0 0 0 0 1 0 1 1 1 1 0 0 0 1 1 1 1 1 0 1 1\n",
      " 1 0 0 1 0 0 0 1 0 0 0 0 1 0 0 1 0 0 0 1 0 0 0 0 1 1 1 1 0 0 0 1 0 1 0 1 0\n",
      " 0 0 1 0 0 0 1 0 1 1 1 1 1 1 1 0 1 1 1 0 1 0 1 1 1 1 1 1 1 1 0 1 1 1 0 0 0\n",
      " 1 0 1 0 1 0 1 1 1 1 1 1 1 0 1 0 1 1 0 0 1 1 1 0 1 0 0 0 0 0 0 1 0 0 1 0 0\n",
      " 0 0 0 0 0 0 0 0 1 1 1 0 1 1 0 0 1 1 0 0 1 1 1 0 0 1 0 1 1 0 0 1 0 1 0 0 0\n",
      " 0 0 0 0 0 1 0 1 0 0 0 0 0 0 1 0 1 1 1 0 1 0 1 1 0 0 0 0 1 1 1 1 0 0 1 1 0\n",
      " 0 0 0 0 1 1 0 1 1 0 1 0 0 0 1 1 0 0 1 0 1 0 0 0 1 0 1 1 0 0 0 0 1 0 0 0 0\n",
      " 0 1 1 0 1 1 0 0 0 0 0 1 0 0 0 0 0 1 0 1 1 0 1 0 0 0 0 1 0 0 0 0 0 1 0 0 0\n",
      " 0 0 0 0 0 0 0 1 1 1 0 1 0 0 0 0 0 1 1 1 1 0 0 1 0 0 0 1 0 1 0 0 0 1 0 1 0\n",
      " 0 0 1 1 0 0 0 0 0 1 1 1 0 1 0 1 0 0 0 0 1 1 1 1 0 0 0 1 1 0 0 0 0 0 1 1 0\n",
      " 0 1 1 1 0 0 0 1 0 0 0 0 0 0 0 0 0 0 1 0 1 1 1 1 1 0 0 0 0 0 0 0 0 0 0 0 0\n",
      " 1 0 0 1 0 0 0 1 0 1 1 0 1 0 0 1 1 0 1 1 0 1 1 0 0 0 1 0 1 0 1 0 0 1 0 1 0\n",
      " 0 0 1 0 1 1 1 1 0 1 0 1 1 1 0 1 1 0 0 0 0 0 0 1 1 1 0 0 1 0 0 0 1 1 1 1 1\n",
      " 1 1 1 0 0 0 1 1 0 0 1 0 0 1 1 0 0 1 1 1 1 0 1 0 0 1 0 1 1 0 0 1 0 0 0 0 1]\n"
     ]
    }
   ],
   "source": [
    "y_pred = classifier.predict(X_fresh)\n",
    "print(y_pred)"
   ]
  },
  {
   "cell_type": "code",
   "execution_count": 12,
   "metadata": {
    "colab": {
     "base_uri": "https://localhost:8080/"
    },
    "executionInfo": {
     "elapsed": 6,
     "status": "ok",
     "timestamp": 1673193330966,
     "user": {
      "displayName": "Naman Verma",
      "userId": "11235119078354129919"
     },
     "user_tz": -330
    },
    "id": "98nc3bUPZhcZ",
    "outputId": "833ba164-1dce-457b-8c55-f540c346ff56"
   },
   "outputs": [
    {
     "data": {
      "text/plain": [
       "array([[0.93135863, 0.06864137],\n",
       "       [0.94965658, 0.05034342],\n",
       "       [0.85799302, 0.14200698],\n",
       "       ...,\n",
       "       [0.89973423, 0.10026577],\n",
       "       [0.5373322 , 0.4626678 ],\n",
       "       [0.24486861, 0.75513139]])"
      ]
     },
     "execution_count": 12,
     "metadata": {},
     "output_type": "execute_result"
    }
   ],
   "source": [
    "predictions = classifier.predict_proba(X_fresh)\n",
    "predictions"
   ]
  },
  {
   "cell_type": "code",
   "execution_count": 13,
   "metadata": {
    "colab": {
     "base_uri": "https://localhost:8080/",
     "height": 206
    },
    "executionInfo": {
     "elapsed": 662,
     "status": "ok",
     "timestamp": 1673193331624,
     "user": {
      "displayName": "Naman Verma",
      "userId": "11235119078354129919"
     },
     "user_tz": -330
    },
    "id": "UA7u-NQIZtGY",
    "outputId": "53ce0df2-356d-43bb-c1e7-d8a2dd217bd2"
   },
   "outputs": [
    {
     "data": {
      "text/html": [
       "<div>\n",
       "<style scoped>\n",
       "    .dataframe tbody tr th:only-of-type {\n",
       "        vertical-align: middle;\n",
       "    }\n",
       "\n",
       "    .dataframe tbody tr th {\n",
       "        vertical-align: top;\n",
       "    }\n",
       "\n",
       "    .dataframe thead th {\n",
       "        text-align: right;\n",
       "    }\n",
       "</style>\n",
       "<table border=\"1\" class=\"dataframe\">\n",
       "  <thead>\n",
       "    <tr style=\"text-align: right;\">\n",
       "      <th></th>\n",
       "      <th>ID</th>\n",
       "      <th>DemAffl</th>\n",
       "      <th>DemAge</th>\n",
       "      <th>DemClusterGroup</th>\n",
       "      <th>DemGender</th>\n",
       "      <th>DemReg</th>\n",
       "      <th>DemTVReg</th>\n",
       "      <th>LoyalClass</th>\n",
       "      <th>LoyalSpend</th>\n",
       "      <th>LoyalTime</th>\n",
       "      <th>prob_0</th>\n",
       "      <th>prob_1</th>\n",
       "    </tr>\n",
       "  </thead>\n",
       "  <tbody>\n",
       "    <tr>\n",
       "      <th>0</th>\n",
       "      <td>140</td>\n",
       "      <td>10.0</td>\n",
       "      <td>76.0</td>\n",
       "      <td>2</td>\n",
       "      <td>2</td>\n",
       "      <td>0</td>\n",
       "      <td>11</td>\n",
       "      <td>0</td>\n",
       "      <td>16000.00</td>\n",
       "      <td>4.0</td>\n",
       "      <td>0.931359</td>\n",
       "      <td>0.068641</td>\n",
       "    </tr>\n",
       "    <tr>\n",
       "      <th>1</th>\n",
       "      <td>620</td>\n",
       "      <td>4.0</td>\n",
       "      <td>49.0</td>\n",
       "      <td>3</td>\n",
       "      <td>2</td>\n",
       "      <td>0</td>\n",
       "      <td>11</td>\n",
       "      <td>0</td>\n",
       "      <td>6000.00</td>\n",
       "      <td>5.0</td>\n",
       "      <td>0.949657</td>\n",
       "      <td>0.050343</td>\n",
       "    </tr>\n",
       "    <tr>\n",
       "      <th>2</th>\n",
       "      <td>868</td>\n",
       "      <td>5.0</td>\n",
       "      <td>70.0</td>\n",
       "      <td>3</td>\n",
       "      <td>0</td>\n",
       "      <td>0</td>\n",
       "      <td>11</td>\n",
       "      <td>2</td>\n",
       "      <td>0.02</td>\n",
       "      <td>8.0</td>\n",
       "      <td>0.857993</td>\n",
       "      <td>0.142007</td>\n",
       "    </tr>\n",
       "    <tr>\n",
       "      <th>3</th>\n",
       "      <td>1120</td>\n",
       "      <td>10.0</td>\n",
       "      <td>65.0</td>\n",
       "      <td>5</td>\n",
       "      <td>1</td>\n",
       "      <td>0</td>\n",
       "      <td>4</td>\n",
       "      <td>3</td>\n",
       "      <td>0.01</td>\n",
       "      <td>7.0</td>\n",
       "      <td>0.726832</td>\n",
       "      <td>0.273168</td>\n",
       "    </tr>\n",
       "    <tr>\n",
       "      <th>4</th>\n",
       "      <td>2313</td>\n",
       "      <td>11.0</td>\n",
       "      <td>68.0</td>\n",
       "      <td>0</td>\n",
       "      <td>0</td>\n",
       "      <td>0</td>\n",
       "      <td>4</td>\n",
       "      <td>3</td>\n",
       "      <td>0.01</td>\n",
       "      <td>8.0</td>\n",
       "      <td>0.533012</td>\n",
       "      <td>0.466988</td>\n",
       "    </tr>\n",
       "  </tbody>\n",
       "</table>\n",
       "</div>"
      ],
      "text/plain": [
       "     ID  DemAffl  DemAge  DemClusterGroup  DemGender  DemReg  DemTVReg  \\\n",
       "0   140     10.0    76.0                2          2       0        11   \n",
       "1   620      4.0    49.0                3          2       0        11   \n",
       "2   868      5.0    70.0                3          0       0        11   \n",
       "3  1120     10.0    65.0                5          1       0         4   \n",
       "4  2313     11.0    68.0                0          0       0         4   \n",
       "\n",
       "   LoyalClass  LoyalSpend  LoyalTime    prob_0    prob_1  \n",
       "0           0    16000.00        4.0  0.931359  0.068641  \n",
       "1           0     6000.00        5.0  0.949657  0.050343  \n",
       "2           2        0.02        8.0  0.857993  0.142007  \n",
       "3           3        0.01        7.0  0.726832  0.273168  \n",
       "4           3        0.01        8.0  0.533012  0.466988  "
      ]
     },
     "execution_count": 13,
     "metadata": {},
     "output_type": "execute_result"
    }
   ],
   "source": [
    "# writing model output file\n",
    "df_prediction_prob = pd.DataFrame(predictions, columns = ['prob_0', 'prob_1'])\n",
    "dfx=pd.concat([dataset,df_prediction_prob], axis=1)\n",
    "dfx.to_excel(\"BuyProb_tochange.xlsx\")\n",
    "dfx.head()"
   ]
  },
  {
   "cell_type": "code",
   "execution_count": null,
   "metadata": {},
   "outputs": [],
   "source": []
  }
 ],
 "metadata": {
  "colab": {
   "provenance": [
    {
     "file_id": "1j4FYqBAxSJ5jfBVkwoTf86IMm721DYKX",
     "timestamp": 1622964071618
    },
    {
     "file_id": "1kiVwvGbrK3TYqkkolV7TxLMCTI9A_Iyz",
     "timestamp": 1621503523204
    }
   ]
  },
  "kernelspec": {
   "display_name": "Python 3 (ipykernel)",
   "language": "python",
   "name": "python3"
  },
  "language_info": {
   "codemirror_mode": {
    "name": "ipython",
    "version": 3
   },
   "file_extension": ".py",
   "mimetype": "text/x-python",
   "name": "python",
   "nbconvert_exporter": "python",
   "pygments_lexer": "ipython3",
   "version": "3.9.7"
  }
 },
 "nbformat": 4,
 "nbformat_minor": 1
}
